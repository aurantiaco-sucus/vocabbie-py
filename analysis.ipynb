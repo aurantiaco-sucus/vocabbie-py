{
 "cells": [
  {
   "cell_type": "code",
   "id": "initial_id",
   "metadata": {
    "collapsed": true,
    "ExecuteTime": {
     "end_time": "2024-06-22T13:21:46.455727Z",
     "start_time": "2024-06-22T13:21:46.442219Z"
    }
   },
   "source": [
    "import os\n",
    "import pickle\n",
    "from glob import glob\n",
    "import torch\n",
    "import torch.nn as nn\n",
    "import torch.optim as optim\n",
    "import torch.jit\n",
    "from tqdm.notebook import tqdm\n",
    "from torch.utils.data import DataLoader\n",
    "from matplotlib import pyplot as plt\n",
    "import numpy as np\n",
    "\n",
    "from support import *"
   ],
   "outputs": [],
   "execution_count": 22
  },
  {
   "metadata": {
    "ExecuteTime": {
     "end_time": "2024-06-22T13:21:47.026353Z",
     "start_time": "2024-06-22T13:21:46.456726Z"
    }
   },
   "cell_type": "code",
   "source": [
    "results = [pickle.load(open(f, 'rb')) for f in glob('./result-50p/*.pkl')]\n",
    "results = [item for sublist in results for item in sublist]"
   ],
   "id": "edc575397341becb",
   "outputs": [],
   "execution_count": 23
  },
  {
   "metadata": {
    "ExecuteTime": {
     "end_time": "2024-06-22T13:21:47.043936Z",
     "start_time": "2024-06-22T13:21:47.027485Z"
    }
   },
   "cell_type": "code",
   "source": "np.max([r.result for r in results]), np.min([r.result for r in results])",
   "id": "5d936ebce2652f88",
   "outputs": [
    {
     "data": {
      "text/plain": [
       "(44963, 20)"
      ]
     },
     "execution_count": 24,
     "metadata": {},
     "output_type": "execute_result"
    }
   ],
   "execution_count": 24
  },
  {
   "metadata": {
    "ExecuteTime": {
     "end_time": "2024-06-22T13:21:47.209308Z",
     "start_time": "2024-06-22T13:21:47.044937Z"
    }
   },
   "cell_type": "code",
   "source": [
    "broad_words = set([word for r in results for word in r.broad_words])\n",
    "narrow_words = set([word for r in results for word in r.narrow_words])\n",
    "broad_words_toi = {word: i for i, word in enumerate(broad_words)}\n",
    "narrow_words_toi = {word: i for i, word in enumerate(narrow_words)}\n",
    "broad_words_ito = {i: word for word, i in broad_words_toi.items()}\n",
    "narrow_words_ito = {i: word for word, i in narrow_words_toi.items()}\n",
    "pickle.dump(broad_words_toi, open('broad_words_toi.pkl', 'wb'))\n",
    "pickle.dump(narrow_words_toi, open('narrow_words_toi.pkl', 'wb'))"
   ],
   "id": "1f6ff8b1198bf49",
   "outputs": [],
   "execution_count": 25
  },
  {
   "metadata": {
    "ExecuteTime": {
     "end_time": "2024-06-22T13:21:54.472534Z",
     "start_time": "2024-06-22T13:21:47.211312Z"
    }
   },
   "cell_type": "code",
   "source": [
    "samples = []\n",
    "for r in results:\n",
    "    broad = torch.zeros(len(broad_words))\n",
    "    narrow = torch.zeros(len(narrow_words))\n",
    "    for (word, sel) in zip(r.broad_words, r.broad_sel):\n",
    "        broad[broad_words_toi[word]] = 1 if sel else -1\n",
    "    for (word, sel) in zip(r.narrow_words, r.narrow_sel):\n",
    "        narrow[narrow_words_toi[word]] = 1 if sel else -1\n",
    "    samples.append((\n",
    "        broad.to(torch.float),\n",
    "        narrow.to(torch.float), \n",
    "        torch.tensor([r.result]).to(torch.float)\n",
    "    ))\n",
    "torch.save(samples, 'samples.pt')"
   ],
   "id": "12d6d10bac211a8e",
   "outputs": [],
   "execution_count": 26
  },
  {
   "metadata": {
    "ExecuteTime": {
     "end_time": "2024-06-22T13:21:55.925975Z",
     "start_time": "2024-06-22T13:21:54.473397Z"
    }
   },
   "cell_type": "code",
   "source": [
    "samples = torch.load('samples.pt')\n",
    "dataloader = DataLoader(samples, batch_size=128, shuffle=True)\n",
    "samples.__len__(), len(broad_words), len(narrow_words)"
   ],
   "id": "bf759c8de230d186",
   "outputs": [
    {
     "data": {
      "text/plain": [
       "(14472, 127, 608)"
      ]
     },
     "execution_count": 27,
     "metadata": {},
     "output_type": "execute_result"
    }
   ],
   "execution_count": 27
  },
  {
   "metadata": {
    "ExecuteTime": {
     "end_time": "2024-06-22T13:21:55.941518Z",
     "start_time": "2024-06-22T13:21:55.927480Z"
    }
   },
   "cell_type": "code",
   "source": [
    "class Model(nn.Module):\n",
    "    def __init__(self, n_broad, n_narrow):\n",
    "        super(Model, self).__init__()\n",
    "        self.broad = nn.Sequential(\n",
    "            nn.Linear(n_broad, 64),\n",
    "            nn.ReLU(),\n",
    "            nn.Linear(64, 32),\n",
    "            nn.ReLU(),\n",
    "        )\n",
    "        self.narrow = nn.Sequential(\n",
    "            nn.Linear(n_narrow, 300),\n",
    "            nn.ReLU(),\n",
    "            nn.Linear(300, 150),\n",
    "            nn.ReLU(),\n",
    "            nn.Linear(150, 75),\n",
    "            nn.ReLU(),\n",
    "            nn.Linear(75, 32),\n",
    "        )\n",
    "        self.combined = nn.Sequential(\n",
    "            nn.Linear(64, 32),\n",
    "            nn.ReLU(),\n",
    "            nn.Linear(32, 1),\n",
    "            nn.ReLU(),\n",
    "        )\n",
    "\n",
    "    def forward(self, broad, narrow):\n",
    "        broad = self.broad(broad)\n",
    "        narrow = self.narrow(narrow)\n",
    "        combined = torch.cat((broad, narrow), dim=1)\n",
    "        return self.combined(combined)\n",
    "    \n",
    "model = Model(len(broad_words), len(narrow_words))\n",
    "optimizer = optim.Adam(model.parameters(), lr=1e-5)\n",
    "criterion = nn.MSELoss()"
   ],
   "id": "920d0963d97fb064",
   "outputs": [],
   "execution_count": 28
  },
  {
   "metadata": {
    "ExecuteTime": {
     "end_time": "2024-06-22T13:21:55.958609Z",
     "start_time": "2024-06-22T13:21:55.942988Z"
    }
   },
   "cell_type": "code",
   "source": "losses = []",
   "id": "896cd00e0d461cdd",
   "outputs": [],
   "execution_count": 29
  },
  {
   "metadata": {
    "ExecuteTime": {
     "end_time": "2024-06-22T13:23:22.445841Z",
     "start_time": "2024-06-22T13:21:55.960039Z"
    }
   },
   "cell_type": "code",
   "source": [
    "for epoch in tqdm(range(200)):\n",
    "    los = []\n",
    "    for broad, narrow, result in dataloader:\n",
    "        result = result / 45000\n",
    "        optimizer.zero_grad()\n",
    "        output = model(broad, narrow)\n",
    "        loss = criterion(output, result)\n",
    "        los.append(loss.item())\n",
    "        loss.backward()\n",
    "        optimizer.step()\n",
    "    losses.append(np.mean(los))\n",
    "plt.plot(np.log(losses))"
   ],
   "id": "41383ab49af5694b",
   "outputs": [
    {
     "data": {
      "text/plain": [
       "  0%|          | 0/200 [00:00<?, ?it/s]"
      ],
      "application/vnd.jupyter.widget-view+json": {
       "version_major": 2,
       "version_minor": 0,
       "model_id": "20ec560cb56d4757a83ef31c6d40d699"
      }
     },
     "metadata": {},
     "output_type": "display_data"
    },
    {
     "data": {
      "text/plain": [
       "[<matplotlib.lines.Line2D at 0x2b0bb616b00>]"
      ]
     },
     "execution_count": 30,
     "metadata": {},
     "output_type": "execute_result"
    },
    {
     "data": {
      "text/plain": [
       "<Figure size 640x480 with 1 Axes>"
      ],
      "image/png": "[encoded data removed]"
     },
     "metadata": {},
     "output_type": "display_data"
    }
   ],
   "execution_count": 30
  },
  {
   "metadata": {
    "ExecuteTime": {
     "end_time": "2024-06-22T13:23:22.461845Z",
     "start_time": "2024-06-22T13:23:22.446842Z"
    }
   },
   "cell_type": "code",
   "source": "model(torch.ones(1, len(broad_words)), torch.ones(1, len(narrow_words))) * 45000",
   "id": "dda7acdc327f2595",
   "outputs": [
    {
     "data": {
      "text/plain": [
       "tensor([[77032.4062]], grad_fn=<MulBackward0>)"
      ]
     },
     "execution_count": 31,
     "metadata": {},
     "output_type": "execute_result"
    }
   ],
   "execution_count": 31
  },
  {
   "metadata": {
    "ExecuteTime": {
     "end_time": "2024-06-22T13:23:22.476481Z",
     "start_time": "2024-06-22T13:23:22.462975Z"
    }
   },
   "cell_type": "code",
   "source": "model(torch.ones(1, len(broad_words)) * -1, torch.ones(1, len(narrow_words)) * -1) * 45000",
   "id": "971209f2beef4e3e",
   "outputs": [
    {
     "data": {
      "text/plain": [
       "tensor([[0.]], grad_fn=<MulBackward0>)"
      ]
     },
     "execution_count": 32,
     "metadata": {},
     "output_type": "execute_result"
    }
   ],
   "execution_count": 32
  },
  {
   "metadata": {
    "ExecuteTime": {
     "end_time": "2024-06-22T13:23:22.491141Z",
     "start_time": "2024-06-22T13:23:22.477412Z"
    }
   },
   "cell_type": "code",
   "source": "torch.save(model.state_dict(), 'model1.pt')",
   "id": "6b9436cfd238ba9",
   "outputs": [],
   "execution_count": 33
  },
  {
   "metadata": {
    "ExecuteTime": {
     "end_time": "2024-06-22T13:39:52.625156Z",
     "start_time": "2024-06-22T13:39:52.587099Z"
    }
   },
   "cell_type": "code",
   "source": [
    "script_model = torch.jit.script(model)\n",
    "script_model"
   ],
   "id": "58d236ee0db23b33",
   "outputs": [
    {
     "data": {
      "text/plain": [
       "RecursiveScriptModule(\n",
       "  original_name=Model\n",
       "  (broad): RecursiveScriptModule(\n",
       "    original_name=Sequential\n",
       "    (0): RecursiveScriptModule(original_name=Linear)\n",
       "    (1): RecursiveScriptModule(original_name=ReLU)\n",
       "    (2): RecursiveScriptModule(original_name=Linear)\n",
       "    (3): RecursiveScriptModule(original_name=ReLU)\n",
       "  )\n",
       "  (narrow): RecursiveScriptModule(\n",
       "    original_name=Sequential\n",
       "    (0): RecursiveScriptModule(original_name=Linear)\n",
       "    (1): RecursiveScriptModule(original_name=ReLU)\n",
       "    (2): RecursiveScriptModule(original_name=Linear)\n",
       "    (3): RecursiveScriptModule(original_name=ReLU)\n",
       "    (4): RecursiveScriptModule(original_name=Linear)\n",
       "    (5): RecursiveScriptModule(original_name=ReLU)\n",
       "    (6): RecursiveScriptModule(original_name=Linear)\n",
       "  )\n",
       "  (combined): RecursiveScriptModule(\n",
       "    original_name=Sequential\n",
       "    (0): RecursiveScriptModule(original_name=Linear)\n",
       "    (1): RecursiveScriptModule(original_name=ReLU)\n",
       "    (2): RecursiveScriptModule(original_name=Linear)\n",
       "    (3): RecursiveScriptModule(original_name=ReLU)\n",
       "  )\n",
       ")"
      ]
     },
     "execution_count": 38,
     "metadata": {},
     "output_type": "execute_result"
    }
   ],
   "execution_count": 38
  },
  {
   "metadata": {
    "ExecuteTime": {
     "end_time": "2024-06-22T13:39:27.644522Z",
     "start_time": "2024-06-22T13:39:27.621719Z"
    }
   },
   "cell_type": "code",
   "source": "script_model.save('model1_script.pt')",
   "id": "f45fd61f36e2ae93",
   "outputs": [],
   "execution_count": 37
  },
  {
   "metadata": {
    "ExecuteTime": {
     "end_time": "2024-06-22T14:16:03.803519Z",
     "start_time": "2024-06-22T14:16:03.797518Z"
    }
   },
   "cell_type": "code",
   "source": [
    "broad_words_def = \"\"\n",
    "for key in broad_words_toi.keys():\n",
    "    broad_words_def += f\"\\\"{key}\\\", \"\n",
    "broad_words_def"
   ],
   "id": "8d1ef0b64ea96bd7",
   "outputs": [
    {
     "data": {
      "text/plain": [
       "'\"here\", \"beach\", \"stone\", \"skill\", \"best\", \"cantle\", \"valetudinarian\", \"bloat\", \"pastiche\", \"pittance\", \"twice\", \"clean\", \"shave\", \"verdure\", \"smart\", \"pay\", \"fish\", \"sapling\", \"ruthless\", \"raiment\", \"prig\", \"work\", \"near\", \"uxoricide\", \"deaf\", \"often\", \"twelve\", \"ballast\", \"shaggy\", \"after\", \"leitmotiv\", \"vibrissae\", \"hint\", \"imbroglio\", \"call\", \"thick\", \"bury\", \"box\", \"soul\", \"mammon\", \"discomfit\", \"flow\", \"dairy\", \"ferry\", \"svelte\", \"plank\", \"trundle\", \"streamline\", \"loot\", \"awry\", \"conflate\", \"respite\", \"white\", \"rescue\", \"dagger\", \"clever\", \"tomorrow\", \"stance\", \"tool\", \"while\", \"shake\", \"him\", \"cradle\", \"writhe\", \"cash\", \"maladroit\", \"wag\", \"legerdemain\", \"grumble\", \"rise\", \"corner\", \"sully\", \"gather\", \"ledge\", \"clap\", \"crowd\", \"midget\", \"sparge\", \"hope\", \"ask\", \"clay\", \"reproach\", \"bat\", \"hair\", \"opsimath\", \"pick\", \"ostrich\", \"mere\", \"mist\", \"pule\", \"hand\", \"throttle\", \"tureen\", \"ajar\", \"think\", \"go\", \"mawkish\", \"shrivel\", \"constraint\", \"moon\", \"soothsayer\", \"shovel\", \"gleam\", \"look\", \"sedulous\", \"sobriquet\", \"cenacle\", \"suit\", \"shout\", \"new\", \"drum\", \"meadow\", \"shrill\", \"mercy\", \"withdraw\", \"close\", \"next\", \"ring\", \"stubble\", \"like\", \"inveigle\", \"between\", \"arrive\", \"break\", \"botch\", \"enough\", \"bright\", '"
      ]
     },
     "execution_count": 43,
     "metadata": {},
     "output_type": "execute_result"
    }
   ],
   "execution_count": 43
  },
  {
   "metadata": {
    "ExecuteTime": {
     "end_time": "2024-06-22T14:17:41.055647Z",
     "start_time": "2024-06-22T14:17:41.036890Z"
    }
   },
   "cell_type": "code",
   "source": [
    "narrow_words_def = \"\"\n",
    "for key in narrow_words_toi.keys():\n",
    "    narrow_words_def += f\"\\\"{key}\\\", \"\n",
    "narrow_words_def"
   ],
   "id": "fc786fcf81fe974d",
   "outputs": [
    {
     "data": {
      "text/plain": [
       "'\"food\", \"either\", \"house\", \"best\", \"bell\", \"bloat\", \"invoice\", \"morning\", \"allow\", \"dirge\", \"love\", \"fuddle\", \"witness\", \"eye\", \"clean\", \"world\", \"verdure\", \"topple\", \"walk\", \"repartee\", \"hamper\", \"rampant\", \"fish\", \"sudden\", \"book\", \"change\", \"loud\", \"scent\", \"try\", \"puny\", \"lack\", \"car\", \"squelch\", \"vibrissae\", \"drive\", \"box\", \"bring\", \"happy\", \"discomfit\", \"lap\", \"rush\", \"ferry\", \"neat\", \"trade\", \"meet\", \"plank\", \"trundle\", \"harvest\", \"jump\", \"extol\", \"fall\", \"streamline\", \"awry\", \"cower\", \"win\", \"regnant\", \"tidings\", \"mouth\", \"sauce\", \"street\", \"seed\", \"sham\", \"respite\", \"dagger\", \"tatterdemalion\", \"blue\", \"many\", \"finish\", \"why\", \"match\", \"clever\", \"tool\", \"wriggle\", \"judicious\", \"spool\", \"burgeon\", \"young\", \"him\", \"steep\", \"writhe\", \"drip\", \"alley\", \"brush\", \"ready\", \"award\", \"portmanteau\", \"start\", \"brain\", \"sister\", \"beware\", \"cellar\", \"lawn\", \"pump\", \"rise\", \"corner\", \"wear\", \"gather\", \"melange\", \"health\", \"captious\", \"suffuse\", \"sparge\", \"wing\", \"reproach\", \"ask\", \"gate\", \"easel\", \"need\", \"pick\", \"stern\", \"husband\", \"fence\", \"mist\", \"wave\", \"drab\", \"most\", \"throttle\", \"wish\", \"bird\", \"four\", \"day\", \"tureen\", \"whim\", \"better\", \"bawl\", \"polymath\", \"strife\", \"chop\", \"ladder\", \"off\", \"aware\", \"hollow\", \"shrivel\", \"tinker\", \"dowdy\", \"stake\", \"joke\", \"buy\", \"look\", \"bake\", \"sedulous\", \"simmer\", \"scathing\", \"tight\", \"have\", \"cenacle\", \"suit\", \"nothing\", \"beam\", \"push\", \"lampoon\", \"however\", \"new\", \"meadow\", \"shrill\", \"flat\", \"brief\", \"ragamuffin\", \"withdraw\", \"stubble\", \"trollop\", \"bait\", \"free\", \"between\", \"arrive\", \"shard\", \"break\", \"little\", \"junk\", \"rule\", \"bright\", \"here\", \"belly\", \"open\", \"cantle\", \"valetudinarian\", \"squall\", \"answer\", \"all\", \"our\", \"contempt\", \"us\", \"storm\", \"pittance\", \"lore\", \"glide\", \"shave\", \"lick\", \"hurry\", \"rebuke\", \"pay\", \"wait\", \"mayhem\", \"knee\", \"accomplish\", \"near\", \"visage\", \"both\", \"scratch\", \"deaf\", \"ballast\", \"ingratiate\", \"leitmotiv\", \"wedding\", \"after\", \"imbroglio\", \"knit\", \"other\", \"cut\", \"noisome\", \"soul\", \"aim\", \"spend\", \"hunt\", \"pencil\", \"hundred\", \"clutch\", \"pabulum\", \"flow\", \"seem\", \"fine\", \"outright\", \"slide\", \"smile\", \"tandem\", \"welter\", \"bibulous\", \"stealth\", \"nest\", \"carve\", \"branch\", \"feel\", \"thrust\", \"tricorn\", \"check\", \"rescue\", \"bread\", \"fledgling\", \"white\", \"people\", \"six\", \"derelict\", \"last\", \"side\", \"tan\", \"bottle\", \"hypnopompic\", \"cradle\", \"learn\", \"gift\", \"busy\", \"wide\", \"truck\", \"write\", \"twenty\", \"money\", \"amount\", \"wag\", \"overt\", \"weasel\", \"room\", \"place\", \"minutiae\", \"ascertain\", \"midget\", \"belong\", \"shoot\", \"sure\", \"portray\", \"tease\", \"ostrich\", \"bugbear\", \"sun\", \"hat\", \"toss\", \"epigone\", \"nostrum\", \"down\", \"under\", \"prurient\", \"bounce\", \"put\", \"among\", \"first\", \"strop\", \"again\", \"prize\", \"wallet\", \"williwaw\", \"good\", \"talk\", \"embankment\", \"stirrup\", \"dull\", \"bustle\", \"purchase\", \"shout\", \"know\", \"disjunctive\", \"girl\", \"read\", \"tipple\", \"warranty\", \"hard\", \"blunder\", \"mercy\", \"none\", \"land\", \"time\", \"sing\", \"drought\", \"like\", \"rumpus\", \"botch\", \"straight\", \"now\", \"cute\", \"same\", \"beach\", \"still\", \"skill\", \"coal\", \"make\", \"burp\", \"dog\", \"smooth\", \"exchange\", \"bald\", \"early\", \"nine\", \"clear\", \"eat\", \"swivel\", \"wet\", \"smart\", \"midriff\", \"sound\", \"sapling\", \"prig\", \"half\", \"rain\", \"edge\", \"water\", \"uxoricide\", \"whiff\", \"often\", \"twelve\", \"red\", \"bed\", \"more\", \"strive\", \"please\", \"purloin\", \"hint\", \"word\", \"give\", \"harsh\", \"stay\", \"seamy\", \"thick\", \"call\", \"terpsichorean\", \"stove\", \"high\", \"rope\", \"mammon\", \"shrine\", \"horse\", \"share\", \"saddle\", \"svelte\", \"mirror\", \"tawdry\", \"key\", \"loot\", \"stoop\", \"let\", \"grass\", \"handsome\", \"sea\", \"bag\", \"parsimonious\", \"warm\", \"hedge\", \"kind\", \"while\", \"rancid\", \"lend\", \"shake\", \"sample\", \"redolent\", \"agree\", \"chain\", \"law\", \"cozy\", \"cash\", \"maladroit\", \"week\", \"raft\", \"thing\", \"nod\", \"laugh\", \"deed\", \"loose\", \"much\", \"malapropism\", \"legerdemain\", \"grumble\", \"clerisy\", \"sully\", \"pink\", \"feeble\", \"ledge\", \"life\", \"hope\", \"forget\", \"bat\", \"opsimath\", \"resilient\", \"grim\", \"hair\", \"handle\", \"few\", \"game\", \"offal\", \"mere\", \"short\", \"pule\", \"year\", \"feature\", \"ajar\", \"pother\", \"caitiff\", \"tidy\", \"go\", \"chaste\", \"string\", \"deracinate\", \"manacle\", \"mien\", \"shape\", \"moon\", \"stage\", \"eight\", \"impolitic\", \"soothsayer\", \"dizzy\", \"shovel\", \"gleam\", \"juggle\", \"source\", \"sobriquet\", \"signet\", \"shoulder\", \"blink\", \"over\", \"soon\", \"see\", \"summer\", \"close\", \"strong\", \"seep\", \"very\", \"inveigle\", \"sweet\", \"happen\", \"sword\", \"hear\", \"belt\", \"stone\", \"eavesdrop\", \"dig\", \"fuliginous\", \"heavy\", \"braggadocio\", \"black\", \"always\", \"touch\", \"kiss\", \"treat\", \"pastiche\", \"road\", \"twice\", \"shop\", \"country\", \"tenebrous\", \"yesterday\", \"adumbrate\", \"screen\", \"big\", \"ruthless\", \"believe\", \"raiment\", \"dish\", \"sell\", \"available\", \"father\", \"work\", \"paper\", \"stead\", \"bruit\", \"numb\", \"skirt\", \"befit\", \"also\", \"shaggy\", \"yes\", \"cold\", \"find\", \"bury\", \"smell\", \"rascal\", \"dairy\", \"uncle\", \"napkin\", \"should\", \"summit\", \"smite\", \"friend\", \"head\", \"conflate\", \"until\", \"with\", \"dry\", \"potboiler\", \"barnacle\", \"tickle\", \"natter\", \"puckish\", \"estivation\", \"deflect\", \"stance\", \"bludgeon\", \"drift\", \"climb\", \"tomorrow\", \"man\", \"fast\", \"forty\", \"nice\", \"three\", \"help\", \"pull\", \"size\", \"lothario\", \"nib\", \"forbid\", \"once\", \"fire\", \"wonder\", \"never\", \"hang\", \"slough\", \"greed\", \"challenge\", \"drop\", \"month\", \"wall\", \"clap\", \"crowd\", \"home\", \"clay\", \"yellow\", \"play\", \"blank\", \"become\", \"chivvy\", \"second\", \"grouse\", \"hand\", \"roof\", \"ceiling\", \"embonpoint\", \"waste\", \"end\", \"think\", \"stall\", \"oneiromancy\", \"party\", \"funambulist\", \"flood\", \"dangle\", \"scrub\", \"sloppy\", \"turn\", \"mawkish\", \"constraint\", \"refurbish\", \"duplicitous\", \"abscond\", \"old\", \"left\", \"want\", \"narrow\", \"flurry\", \"drum\", \"before\", \"each\", \"pretty\", \"ankle\", \"rind\", \"crush\", \"udder\", \"ring\", \"next\", \"brother\", \"take\", \"enough\", '"
      ]
     },
     "execution_count": 44,
     "metadata": {},
     "output_type": "execute_result"
    }
   ],
   "execution_count": 44
  }
 ],
 "metadata": {
  "kernelspec": {
   "display_name": "Python 3",
   "language": "python",
   "name": "python3"
  },
  "language_info": {
   "codemirror_mode": {
    "name": "ipython",
    "version": 2
   },
   "file_extension": ".py",
   "mimetype": "text/x-python",
   "name": "python",
   "nbconvert_exporter": "python",
   "pygments_lexer": "ipython2",
   "version": "2.7.6"
  }
 },
 "nbformat": 4,
 "nbformat_minor": 5
}
