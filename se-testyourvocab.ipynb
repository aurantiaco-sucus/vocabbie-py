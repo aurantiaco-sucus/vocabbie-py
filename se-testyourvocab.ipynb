{
 "cells": [
  {
   "cell_type": "code",
   "id": "initial_id",
   "metadata": {
    "collapsed": true,
    "ExecuteTime": {
     "end_time": "2024-06-21T15:53:27.935130Z",
     "start_time": "2024-06-21T15:53:27.856025Z"
    }
   },
   "source": [
    "from dataclasses import dataclass\n",
    "from random import random\n",
    "\n",
    "from selenium import webdriver\n",
    "from selenium.webdriver.common.by import By\n",
    "from selenium.webdriver.chrome.service import Service\n",
    "from selenium.webdriver.support.wait import WebDriverWait\n",
    "from tqdm import tqdm"
   ],
   "outputs": [],
   "execution_count": 1
  },
  {
   "metadata": {
    "ExecuteTime": {
     "end_time": "2024-06-21T15:53:29.277087Z",
     "start_time": "2024-06-21T15:53:27.935986Z"
    }
   },
   "cell_type": "code",
   "source": "driver = webdriver.Chrome(service=Service('./chromedriver.exe'))",
   "id": "ef194159d021fa6f",
   "outputs": [],
   "execution_count": 2
  },
  {
   "metadata": {
    "ExecuteTime": {
     "end_time": "2024-06-21T15:53:29.292195Z",
     "start_time": "2024-06-21T15:53:29.278928Z"
    }
   },
   "cell_type": "code",
   "source": [
    "@dataclass\n",
    "class TyvResult:\n",
    "    broad_words: list[str]\n",
    "    broad_sel: list[bool]\n",
    "    narrow_words: list[str]\n",
    "    narrow_sel: list[bool]\n",
    "    result: int\n",
    "\n",
    "def _tyv_random_click(driver: webdriver.Chrome, rate: float) -> (list[str], list[bool]):\n",
    "    words = []\n",
    "    sel = []\n",
    "    buttons = driver.find_elements(By.TAG_NAME, \"button\")\n",
    "    buttons = [button for button in buttons if button.get_attribute(\"id\").startswith(\"word_\")]\n",
    "    for button in buttons:\n",
    "        words.append(button.find_element(By.XPATH, \"following-sibling::span\").text)\n",
    "        if random() < rate:\n",
    "            driver.execute_script(\"arguments[0].click();\", button)\n",
    "            sel.append(True)\n",
    "        else:\n",
    "            sel.append(False)\n",
    "    return words, sel\n",
    "\n",
    "def generate_tyv(driver: webdriver.Chrome, broad_rate: float, narrow_rate: float) -> TyvResult:\n",
    "    driver.get(\"https://preply.com/en/learn/english/test-your-vocab\")\n",
    "    broad_words, broad_sel = _tyv_random_click(driver, broad_rate)\n",
    "    driver.execute_script(\"arguments[0].click();\", driver.find_element(By.XPATH, \"//span[text()='Continue']\"))\n",
    "    wait = WebDriverWait(driver, 10)\n",
    "    wait.until(lambda d: d.find_elements(By.CLASS_NAME, \"preply-ds-heading\").__len__() > 1 and d.find_elements(By.CLASS_NAME, \"preply-ds-heading\")[1].text.startswith(\"Step 2\"))\n",
    "    narrow_words, narrow_sel = _tyv_random_click(driver, narrow_rate)\n",
    "    driver.execute_script(\"arguments[0].click();\", driver.find_element(By.XPATH, \"//span[text()='Continue']\"))\n",
    "    wait.until(lambda d: d.find_elements(By.CLASS_NAME, \"preply-ds-heading\").__len__() > 0 and d.find_elements(By.CLASS_NAME, \"preply-ds-heading\")[0].text.startswith(\"A\"))\n",
    "    result = int(driver.find_element(By.TAG_NAME, \"h3\").text)\n",
    "    return TyvResult(broad_words, broad_sel, narrow_words, narrow_sel, result)"
   ],
   "id": "95d8aff55adb8e89",
   "outputs": [],
   "execution_count": 3
  },
  {
   "metadata": {
    "ExecuteTime": {
     "start_time": "2024-06-21T15:53:29.293196Z"
    }
   },
   "cell_type": "code",
   "source": [
    "results = []\n",
    "for i in tqdm(range(1_000_000)):\n",
    "    results.append(generate_tyv(driver, 0.5, 0.5))"
   ],
   "id": "7169e105b309ed41",
   "outputs": [
    {
     "name": "stderr",
     "output_type": "stream",
     "text": [
      "  0%|          | 15/1000000 [01:51<2059:33:42,  7.41s/it]"
     ]
    }
   ],
   "execution_count": null
  }
 ],
 "metadata": {
  "kernelspec": {
   "display_name": "Python 3",
   "language": "python",
   "name": "python3"
  },
  "language_info": {
   "codemirror_mode": {
    "name": "ipython",
    "version": 2
   },
   "file_extension": ".py",
   "mimetype": "text/x-python",
   "name": "python",
   "nbconvert_exporter": "python",
   "pygments_lexer": "ipython2",
   "version": "2.7.6"
  }
 },
 "nbformat": 4,
 "nbformat_minor": 5
}
