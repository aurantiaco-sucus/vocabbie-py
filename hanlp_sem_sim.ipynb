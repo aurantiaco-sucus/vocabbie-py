{
 "cells": [
  {
   "cell_type": "code",
   "id": "initial_id",
   "metadata": {
    "collapsed": true,
    "jupyter": {
     "is_executing": true
    },
    "ExecuteTime": {
     "start_time": "2024-06-19T07:11:45.202645Z"
    }
   },
   "source": [
    "import hanlp\n",
    "\n",
    "sim = hanlp.load(hanlp.pretrained.sts.STS_ELECTRA_BASE_ZH)"
   ],
   "outputs": [
    {
     "name": "stderr",
     "output_type": "stream",
     "text": [
      "Downloading https://file.hankcs.com/hanlp/sts/sts_electra_base_zh_20210530_200109.zip to /home/konqi/.hanlp/sts/sts_electra_base_zh_20210530_200109.zip\n",
      "  7% 362.0 MiB   3.9 MiB/s ETA:  1 m 25 s [==                                  ]"
     ]
    }
   ],
   "execution_count": null
  },
  {
   "metadata": {},
   "cell_type": "code",
   "outputs": [],
   "execution_count": null,
   "source": [
    "sim([\n",
    "    ['看图猜一电影名', '看图猜电影'],\n",
    "    ['无线路由器怎么无线上网', '无线上网卡和无线路由器怎么用'],\n",
    "    ['北京到上海的动车票', '上海到北京的动车票'],\n",
    "])"
   ],
   "id": "dbcd79c603fc0835"
  }
 ],
 "metadata": {
  "kernelspec": {
   "display_name": "Python 3",
   "language": "python",
   "name": "python3"
  },
  "language_info": {
   "codemirror_mode": {
    "name": "ipython",
    "version": 2
   },
   "file_extension": ".py",
   "mimetype": "text/x-python",
   "name": "python",
   "nbconvert_exporter": "python",
   "pygments_lexer": "ipython2",
   "version": "2.7.6"
  }
 },
 "nbformat": 4,
 "nbformat_minor": 5
}
