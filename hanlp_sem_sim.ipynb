{
 "cells": [
  {
   "cell_type": "code",
   "id": "initial_id",
   "metadata": {
    "collapsed": true,
    "ExecuteTime": {
     "end_time": "2024-06-19T07:14:38.061386Z",
     "start_time": "2024-06-19T07:11:45.202645Z"
    }
   },
   "source": [
    "import hanlp\n",
    "\n",
    "sim = hanlp.load(hanlp.pretrained.sts.STS_ELECTRA_BASE_ZH)"
   ],
   "outputs": [
    {
     "name": "stderr",
     "output_type": "stream",
     "text": [
      "Downloading https://file.hankcs.com/hanlp/sts/sts_electra_base_zh_20210530_200109.zip to /home/konqi/.hanlp/sts/sts_electra_base_zh_20210530_200109.zip\n",
      "100% 362.0 MiB 373.2 KiB/s ETA:  0 s [=========================================]\n",
      "Decompressing /home/konqi/.hanlp/sts/sts_electra_base_zh_20210530_200109.zip to /home/konqi/.hanlp/sts\n",
      "Downloading https://file.hankcs.com/hanlp/transformers/electra_zh_base_20210706_125233.zip to /home/konqi/.hanlp/transformers/electra_zh_base_20210706_125233.zip\n",
      "100%  41.2 KiB  41.2 KiB/s ETA:  0 s [=========================================]\n",
      "Decompressing /home/konqi/.hanlp/transformers/electra_zh_base_20210706_125233.zip to /home/konqi/.hanlp/transformers\n",
      "                                   \r"
     ]
    }
   ],
   "execution_count": 1
  },
  {
   "metadata": {
    "ExecuteTime": {
     "end_time": "2024-06-19T07:15:08.715763Z",
     "start_time": "2024-06-19T07:15:08.529592Z"
    }
   },
   "cell_type": "code",
   "source": [
    "sim([\n",
    "    ['看图猜一电影名', '看图猜电影'],\n",
    "    ['无线路由器怎么无线上网', '无线上网卡和无线路由器怎么用'],\n",
    "    ['北京到上海的动车票', '上海到北京的动车票'],\n",
    "])"
   ],
   "id": "dbcd79c603fc0835",
   "outputs": [
    {
     "data": {
      "text/plain": [
       "[0.9764467477798462, 0.0, 0.003458738327026367]"
      ]
     },
     "execution_count": 5,
     "metadata": {},
     "output_type": "execute_result"
    }
   ],
   "execution_count": 5
  }
 ],
 "metadata": {
  "kernelspec": {
   "display_name": "Python 3",
   "language": "python",
   "name": "python3"
  },
  "language_info": {
   "codemirror_mode": {
    "name": "ipython",
    "version": 2
   },
   "file_extension": ".py",
   "mimetype": "text/x-python",
   "name": "python",
   "nbconvert_exporter": "python",
   "pygments_lexer": "ipython2",
   "version": "2.7.6"
  }
 },
 "nbformat": 4,
 "nbformat_minor": 5
}
