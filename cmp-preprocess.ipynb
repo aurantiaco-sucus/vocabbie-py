{
 "cells": [
  {
   "cell_type": "code",
   "id": "initial_id",
   "metadata": {
    "collapsed": true,
    "ExecuteTime": {
     "end_time": "2024-06-22T16:58:34.276738Z",
     "start_time": "2024-06-22T16:58:34.273757Z"
    }
   },
   "source": [
    "import os\n",
    "import pickle\n",
    "from glob import glob\n",
    "import torch\n",
    "import torch.nn as nn\n",
    "import torch.optim as optim\n",
    "import torch.jit\n",
    "from tqdm.notebook import tqdm\n",
    "from torch.utils.data import DataLoader\n",
    "from matplotlib import pyplot as plt\n",
    "import numpy as np\n",
    "\n",
    "from support import *"
   ],
   "outputs": [],
   "execution_count": 5
  },
  {
   "metadata": {
    "ExecuteTime": {
     "end_time": "2024-06-22T16:58:34.577684Z",
     "start_time": "2024-06-22T16:58:34.279147Z"
    }
   },
   "cell_type": "code",
   "source": [
    "results = [pickle.load(open(f, 'rb')) for f in glob('./result-50p/*.pkl')]\n",
    "results = [item for sublist in results for item in sublist]"
   ],
   "id": "fb90b9b2129cec4a",
   "outputs": [],
   "execution_count": 6
  },
  {
   "metadata": {
    "ExecuteTime": {
     "end_time": "2024-06-22T16:58:35.024068Z",
     "start_time": "2024-06-22T16:58:34.578890Z"
    }
   },
   "cell_type": "code",
   "source": [
    "sets = []\n",
    "for entry in results:\n",
    "    broad_known = [x for x, r in zip(entry.broad_words, entry.broad_sel) if r]\n",
    "    broad_unknown = [x for x, r in zip(entry.broad_words, entry.broad_sel) if not r]\n",
    "    narrow_known = [x for x, r in zip(entry.narrow_words, entry.narrow_sel) if r]\n",
    "    narrow_unknown = [x for x, r in zip(entry.narrow_words, entry.narrow_sel) if not r]\n",
    "    known = broad_known + narrow_known\n",
    "    unknown = broad_unknown + narrow_unknown\n",
    "    sets.append((known, unknown))"
   ],
   "id": "b949e050746c14df",
   "outputs": [],
   "execution_count": 7
  },
  {
   "metadata": {
    "ExecuteTime": {
     "end_time": "2024-06-22T16:58:35.088820Z",
     "start_time": "2024-06-22T16:58:35.025031Z"
    }
   },
   "cell_type": "code",
   "source": [
    "with open('./samples.txt', 'w') as f:\n",
    "    for known, unknown in sets:\n",
    "        f.write(','.join(known))\n",
    "        f.write(';')\n",
    "        f.write(','.join(unknown))\n",
    "        f.write('\\n')"
   ],
   "id": "c3ba2512942823a4",
   "outputs": [],
   "execution_count": 8
  }
 ],
 "metadata": {
  "kernelspec": {
   "display_name": "Python 3",
   "language": "python",
   "name": "python3"
  },
  "language_info": {
   "codemirror_mode": {
    "name": "ipython",
    "version": 2
   },
   "file_extension": ".py",
   "mimetype": "text/x-python",
   "name": "python",
   "nbconvert_exporter": "python",
   "pygments_lexer": "ipython2",
   "version": "2.7.6"
  }
 },
 "nbformat": 4,
 "nbformat_minor": 5
}
