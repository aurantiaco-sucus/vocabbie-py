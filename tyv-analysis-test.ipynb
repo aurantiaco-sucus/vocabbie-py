{
 "cells": [
  {
   "cell_type": "code",
   "id": "initial_id",
   "metadata": {
    "collapsed": true,
    "ExecuteTime": {
     "end_time": "2024-06-26T09:03:50.521123Z",
     "start_time": "2024-06-26T09:03:49.531702Z"
    }
   },
   "source": [
    "import os\n",
    "import pickle\n",
    "from glob import glob\n",
    "import torch\n",
    "import torch.nn as nn\n",
    "import torch.optim as optim\n",
    "import torch.jit\n",
    "from tqdm.notebook import tqdm\n",
    "from torch.utils.data import DataLoader\n",
    "from matplotlib import pyplot as plt\n",
    "import seaborn as sns\n",
    "import numpy as np\n",
    "\n",
    "from support import *"
   ],
   "outputs": [],
   "execution_count": 1
  },
  {
   "metadata": {
    "ExecuteTime": {
     "end_time": "2024-06-26T09:03:50.887666Z",
     "start_time": "2024-06-26T09:03:50.522340Z"
    }
   },
   "cell_type": "code",
   "source": [
    "results = [pickle.load(open(f, 'rb')) for f in glob('./result-50p/*.pkl')]\n",
    "results = [item for sublist in results for item in sublist]"
   ],
   "id": "edc575397341becb",
   "outputs": [],
   "execution_count": 2
  },
  {
   "metadata": {
    "ExecuteTime": {
     "end_time": "2024-06-26T09:03:51.030786Z",
     "start_time": "2024-06-26T09:03:50.888460Z"
    }
   },
   "cell_type": "code",
   "source": [
    "broad_words = set([word for r in results for word in r.broad_words])\n",
    "narrow_words = set([word for r in results for word in r.narrow_words])\n",
    "broad_words_toi = {word: i for i, word in enumerate(broad_words)}\n",
    "narrow_words_toi = {word: i for i, word in enumerate(narrow_words)}\n",
    "broad_words_ito = {i: word for word, i in broad_words_toi.items()}\n",
    "narrow_words_ito = {i: word for word, i in narrow_words_toi.items()}\n",
    "# pickle.dump(broad_words_toi, open('broad_words_toi.pkl', 'wb'))\n",
    "# pickle.dump(narrow_words_toi, open('narrow_words_toi.pkl', 'wb'))"
   ],
   "id": "1f6ff8b1198bf49",
   "outputs": [],
   "execution_count": 3
  },
  {
   "metadata": {
    "ExecuteTime": {
     "end_time": "2024-06-26T09:03:52.700611Z",
     "start_time": "2024-06-26T09:03:51.032212Z"
    }
   },
   "cell_type": "code",
   "source": [
    "samples = torch.load('samples.pt')\n",
    "# dataloader = DataLoader(samples, batch_size=128, shuffle=True)\n",
    "samples.__len__(), len(broad_words), len(narrow_words)"
   ],
   "id": "bf759c8de230d186",
   "outputs": [
    {
     "data": {
      "text/plain": [
       "(14472, 127, 608)"
      ]
     },
     "execution_count": 4,
     "metadata": {},
     "output_type": "execute_result"
    }
   ],
   "execution_count": 4
  },
  {
   "metadata": {
    "ExecuteTime": {
     "end_time": "2024-06-26T09:03:53.090496Z",
     "start_time": "2024-06-26T09:03:52.701592Z"
    }
   },
   "cell_type": "code",
   "source": [
    "class Model(nn.Module):\n",
    "    def __init__(self, n_broad, n_narrow):\n",
    "        super(Model, self).__init__()\n",
    "        self.broad = nn.Sequential(\n",
    "            nn.Linear(n_broad, 64),\n",
    "            nn.ReLU(),\n",
    "            nn.Linear(64, 32),\n",
    "            nn.ReLU(),\n",
    "        )\n",
    "        self.narrow = nn.Sequential(\n",
    "            nn.Linear(n_narrow, 300),\n",
    "            nn.ReLU(),\n",
    "            nn.Linear(300, 150),\n",
    "            nn.ReLU(),\n",
    "            nn.Linear(150, 75),\n",
    "            nn.ReLU(),\n",
    "            nn.Linear(75, 32),\n",
    "        )\n",
    "        self.combined = nn.Sequential(\n",
    "            nn.Linear(64, 32),\n",
    "            nn.ReLU(),\n",
    "            nn.Linear(32, 1),\n",
    "            nn.ReLU(),\n",
    "        )\n",
    "\n",
    "    def forward(self, broad, narrow):\n",
    "        broad = self.broad(broad)\n",
    "        narrow = self.narrow(narrow)\n",
    "        combined = torch.cat((broad, narrow), dim=1)\n",
    "        return self.combined(combined)\n",
    "    \n",
    "model = Model(len(broad_words), len(narrow_words))\n",
    "optimizer = optim.Adam(model.parameters(), lr=1e-5)\n",
    "criterion = nn.MSELoss()"
   ],
   "id": "920d0963d97fb064",
   "outputs": [],
   "execution_count": 5
  },
  {
   "metadata": {
    "ExecuteTime": {
     "end_time": "2024-06-26T09:03:53.097437Z",
     "start_time": "2024-06-26T09:03:53.091584Z"
    }
   },
   "cell_type": "code",
   "source": [
    "model.load_state_dict(torch.load('model1.pt'))\n",
    "model.eval()"
   ],
   "id": "fd4745f3735b4fc5",
   "outputs": [
    {
     "data": {
      "text/plain": [
       "Model(\n",
       "  (broad): Sequential(\n",
       "    (0): Linear(in_features=127, out_features=64, bias=True)\n",
       "    (1): ReLU()\n",
       "    (2): Linear(in_features=64, out_features=32, bias=True)\n",
       "    (3): ReLU()\n",
       "  )\n",
       "  (narrow): Sequential(\n",
       "    (0): Linear(in_features=608, out_features=300, bias=True)\n",
       "    (1): ReLU()\n",
       "    (2): Linear(in_features=300, out_features=150, bias=True)\n",
       "    (3): ReLU()\n",
       "    (4): Linear(in_features=150, out_features=75, bias=True)\n",
       "    (5): ReLU()\n",
       "    (6): Linear(in_features=75, out_features=32, bias=True)\n",
       "  )\n",
       "  (combined): Sequential(\n",
       "    (0): Linear(in_features=64, out_features=32, bias=True)\n",
       "    (1): ReLU()\n",
       "    (2): Linear(in_features=32, out_features=1, bias=True)\n",
       "    (3): ReLU()\n",
       "  )\n",
       ")"
      ]
     },
     "execution_count": 6,
     "metadata": {},
     "output_type": "execute_result"
    }
   ],
   "execution_count": 6
  },
  {
   "metadata": {
    "ExecuteTime": {
     "end_time": "2024-06-26T09:03:53.104662Z",
     "start_time": "2024-06-26T09:03:53.098561Z"
    }
   },
   "cell_type": "code",
   "source": "model(torch.ones(1, len(broad_words)), torch.ones(1, len(narrow_words))) * 45000",
   "id": "dda7acdc327f2595",
   "outputs": [
    {
     "data": {
      "text/plain": [
       "tensor([[77032.4062]], grad_fn=<MulBackward0>)"
      ]
     },
     "execution_count": 7,
     "metadata": {},
     "output_type": "execute_result"
    }
   ],
   "execution_count": 7
  },
  {
   "metadata": {
    "ExecuteTime": {
     "end_time": "2024-06-26T09:03:53.110201Z",
     "start_time": "2024-06-26T09:03:53.105519Z"
    }
   },
   "cell_type": "code",
   "source": "model(torch.ones(1, len(broad_words)) * -1, torch.ones(1, len(narrow_words)) * -1) * 45000",
   "id": "971209f2beef4e3e",
   "outputs": [
    {
     "data": {
      "text/plain": [
       "tensor([[0.]], grad_fn=<MulBackward0>)"
      ]
     },
     "execution_count": 8,
     "metadata": {},
     "output_type": "execute_result"
    }
   ],
   "execution_count": 8
  },
  {
   "metadata": {
    "ExecuteTime": {
     "end_time": "2024-06-26T09:03:55.037607Z",
     "start_time": "2024-06-26T09:03:53.111126Z"
    }
   },
   "cell_type": "code",
   "source": [
    "values = []\n",
    "for broad, narrow, result in tqdm(samples):\n",
    "    with torch.no_grad():\n",
    "        pred = model(broad.unsqueeze(0), narrow.unsqueeze(0))\n",
    "    values.append((pred.item() * 45000, result.item()))"
   ],
   "id": "25ce333cbf2343bf",
   "outputs": [
    {
     "data": {
      "text/plain": [
       "  0%|          | 0/14472 [00:00<?, ?it/s]"
      ],
      "application/vnd.jupyter.widget-view+json": {
       "version_major": 2,
       "version_minor": 0,
       "model_id": "813751e7cd4f4c2bbb206843a2c54747"
      }
     },
     "metadata": {},
     "output_type": "display_data"
    }
   ],
   "execution_count": 9
  },
  {
   "metadata": {
    "ExecuteTime": {
     "end_time": "2024-06-26T09:03:55.043767Z",
     "start_time": "2024-06-26T09:03:55.040345Z"
    }
   },
   "cell_type": "code",
   "source": [
    "x = [v[0] for v in values]\n",
    "y = [v[1] for v in values]"
   ],
   "id": "e54489ddbb9bf4ce",
   "outputs": [],
   "execution_count": 10
  },
  {
   "metadata": {
    "ExecuteTime": {
     "end_time": "2024-06-26T09:04:25.131506Z",
     "start_time": "2024-06-26T09:04:24.447237Z"
    }
   },
   "cell_type": "code",
   "source": "sns.scatterplot(x=x, y=y, s=[2]*len(x))",
   "id": "81d3d9f02e389aa3",
   "outputs": [
    {
     "data": {
      "text/plain": [
       "<Axes: >"
      ]
     },
     "execution_count": 12,
     "metadata": {},
     "output_type": "execute_result"
    },
    {
     "data": {
      "text/plain": [
       "<Figure size 640x480 with 1 Axes>"
      ],
      "image/png": "[encoded data removed]"
     },
     "metadata": {},
     "output_type": "display_data"
    }
   ],
   "execution_count": 12
  }
 ],
 "metadata": {
  "kernelspec": {
   "display_name": "Python 3",
   "language": "python",
   "name": "python3"
  },
  "language_info": {
   "codemirror_mode": {
    "name": "ipython",
    "version": 2
   },
   "file_extension": ".py",
   "mimetype": "text/x-python",
   "name": "python",
   "nbconvert_exporter": "python",
   "pygments_lexer": "ipython2",
   "version": "2.7.6"
  }
 },
 "nbformat": 4,
 "nbformat_minor": 5
}
